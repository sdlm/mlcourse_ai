{
 "cells": [
  {
   "cell_type": "markdown",
   "metadata": {},
   "source": [
    "<center>\n",
    "<img src=\"../../img/ods_stickers.jpg\" />\n",
    "    \n",
    "## [mlcourse.ai](mlcourse.ai) – Open Machine Learning Course \n",
    "\n",
    "Authors: [Yury Kashnitskiy](https://yorko.github.io) and [Maxim Keremet](https://www.linkedin.com/in/maximkeremet/). Translated and edited by  [Artem Trunov](https://www.linkedin.com/in/datamove/), and [Aditya Soni](https://www.linkedin.com/in/aditya-soni-0505a9124/). This material is subject to the terms and conditions of the [Creative Commons CC BY-NC-SA 4.0](https://creativecommons.org/licenses/by-nc-sa/4.0/) license. Free use is permitted for any non-commercial purpose."
   ]
  },
  {
   "cell_type": "markdown",
   "metadata": {},
   "source": [
    "# <center>Assignment #1. Spring 2019 <br> \n",
    "\n",
    "## <center>Exploratory Data Analysis (EDA) of US flights <br> (using Pandas, Matplotlib & Seaborn)\n",
    "\n",
    "<img src='../../img/plane_sunset.png' width=50%>\n",
    "\n",
    "Prior to working on the assignment, you'd better check out the corresponding course material:\n",
    " - [Exploratory data analysis with Pandas](https://nbviewer.jupyter.org/github/Yorko/mlcourse_open/blob/master/jupyter_english/topic01_pandas_data_analysis/topic1_pandas_data_analysis.ipynb?flush_cache=true), the same as an interactive web-based [Kaggle Kernel](https://www.kaggle.com/kashnitsky/topic-1-exploratory-data-analysis-with-pandas)\n",
    " - [Visualization: from Simple Distributions to Dimensionality Reduction](https://mlcourse.ai/notebooks/blob/master/jupyter_english/topic02_visual_data_analysis/topic2_visual_data_analysis.ipynb?flush_cache=true), the same as a [Kaggle Kernel](https://www.kaggle.com/kashnitsky/topic-2-visual-data-analysis-in-python)\n",
    " - [Overview of Seaborn, Matplotlib and Plotly libraries](https://mlcourse.ai/notebooks/blob/master/jupyter_english/topic02_visual_data_analysis/topic2_additional_seaborn_matplotlib_plotly.ipynb?flush_cache=true), the same as a [Kaggle Kernel](https://www.kaggle.com/kashnitsky/topic-2-part-2-seaborn-and-plotly) \n",
    " - first lectures in [this](https://www.youtube.com/watch?v=QKTuw4PNOsU&list=PLVlY_7IJCMJeRfZ68eVfEcu-UcN9BbwiX) YouTube playlist \n",
    " - you can also practice with demo assignments, which are simpler and already shared with solutions: [A1 demo](https://www.kaggle.com/kashnitsky/a1-demo-pandas-and-uci-adult-dataset), [solution](https://www.kaggle.com/kashnitsky/a1-demo-pandas-and-uci-adult-dataset-solution), [A2 demo](https://www.kaggle.com/kashnitsky/a2-demo-analyzing-cardiovascular-data), [solution](https://www.kaggle.com/kashnitsky/a2-demo-analyzing-cardiovascular-data-solution)\n",
    "\n",
    "### Your task is to:\n",
    " 1. write code and perform computations in the cells below\n",
    " 2. choose answers in the [webform](https://docs.google.com/forms/d/1Q_5rY7Paed4Xc_THtrfE3OSaB3sJerYuJ7NCHtqRbKs). Solutions will be shared only with those who've filled in this form \n",
    " 3. submit answers with some email and **remember it**! This will be your ID during the course. Specify your real full name in the form as well (no nicks allowed in the final top-100 [rating](https://mlcourse.ai/rating)). If in doubt, you can re-submit the form till the deadline for A1, no problem, but stick to only one email.\n",
    " \n",
    "### <center> Deadline for A1: 2019 February 24, 20:59 GMT (London time)\n",
    "    \n",
    "You'll get up to 12 credits for this assignment - the web-form score will be halved and rounded.\n",
    "\n",
    "### How to get help\n",
    "In [ODS Slack](https://opendatascience.slack.com) (if you still don't have access, fill in the [form](https://docs.google.com/forms/d/1BMqcUc-hIQXa0HB_Q2Oa8vWBtGHXk8a6xo5gPnMKYKA/edit) mentioned on the mlcourse.ai main page), we have a channel **#mlcourse_ai_news** with announcements from the course team.\n",
    "You can discuss the course content freely in the **#mlcourse_ai** channel (we still have a huge Russian-speaking group, they have a separate channel **#mlcourse_ai_rus**).\n",
    "\n",
    "Here's how you reply in a thread (press this dialog icon to drill down into a thread):\n",
    "\n",
    "<img src=\"../../img/start_a_thread.png\" />\n",
    "\n",
    "Please stick to special threads for your questions:\n",
    " - [#a1_q1-5](https://opendatascience.slack.com/archives/C91N8TL83/p1549882488049500) for questions 1-5 below\n",
    " - [#a1_q6-10](https://opendatascience.slack.com/archives/C91N8TL83/p1549882494049700) for questions 6-10 below\n",
    " - [#a1_q11-15](https://opendatascience.slack.com/archives/C91N8TL83/p1549882499049900) for questions 11-15 below\n",
    " - [#a1_q16-20](https://opendatascience.slack.com/archives/C91N8TL83/p1549882508050200) for questions 16-20 below\n",
    " \n",
    "Help each other without sharing correct code and answers. Our TA Maxim @maximkeremet is there to help (only in the mentioned threads, do not write to him directly).\n",
    "\n",
    "Lastly, you can save useful messages by pinning them, further you can find pinned items on the top, just below the channel name:\n",
    "\n",
    "<img src=\"../../img/pinned_item.png\" />"
   ]
  },
  {
   "cell_type": "code",
   "execution_count": 1,
   "metadata": {},
   "outputs": [],
   "source": [
    "import numpy as np\n",
    "import pandas as pd \n",
    "import seaborn as sns\n",
    "import matplotlib.pyplot as plt"
   ]
  },
  {
   "cell_type": "markdown",
   "metadata": {},
   "source": [
    "* Download the data [archive](http://stat-computing.org/dataexpo/2009/2008.csv.bz2) (Archived ~ 114 Mb, unzipped - ~ 690 Mb, [alternative link](https://drive.google.com/file/d/1C5nTzitvJ0ho2Crpqnghg9r2yq98Xxun/view?usp=sharing)). No need to unzip - pandas can unbzip on the fly.\n",
    "* Place it in the \"../../data\" folder, or change the path below according to your location.\n",
    "* The dataset has information about carriers and flights between US airports during the year 2008. \n",
    "* Column description is available [here](http://www.transtats.bts.gov/Fields.asp?Table_ID=236). Visit this site to find ex. meaning of flight cancellation codes."
   ]
  },
  {
   "cell_type": "markdown",
   "metadata": {},
   "source": [
    "Consider the following terms we use:\n",
    "* unique flight - a record (row) in the dataset\n",
    "* completed flight = flight that is not cancelled (Cancelled==0 in the dataset)\n",
    "* flight code - a combination of ['UniqueCarrier','FlightNum'], i.e.  UA52\n",
    "* airport code - a three letter airport alias from 'Origin or 'Dest' columns"
   ]
  },
  {
   "cell_type": "markdown",
   "metadata": {},
   "source": [
    "**Reading data into memory and creating a Pandas ``DataFrame`` object**\n",
    "\n",
    "(This may take a while, be patient)\n",
    "\n",
    "We are not going to read in the whole dataset. In order to reduce memory footprint, we instead load only needed columns and cast them to suitable data types."
   ]
  },
  {
   "cell_type": "code",
   "execution_count": 2,
   "metadata": {},
   "outputs": [],
   "source": [
    "dtype = {'DayOfWeek': np.uint8, 'DayofMonth': np.uint8, 'Month': np.uint8 , \n",
    "         'Cancelled': np.uint8, 'Year': np.uint16, 'FlightNum': np.uint16 , \n",
    "         'Distance': np.uint16, 'UniqueCarrier': str, 'CancellationCode': str, \n",
    "         'Origin': str, 'Dest': str, 'ArrDelay': np.float16, \n",
    "         'DepDelay': np.float16, 'CarrierDelay': np.float16, \n",
    "         'WeatherDelay': np.float16, 'NASDelay': np.float16, \n",
    "         'SecurityDelay': np.float16, 'LateAircraftDelay': np.float16, \n",
    "         'DepTime': np.float16}"
   ]
  },
  {
   "cell_type": "code",
   "execution_count": 3,
   "metadata": {},
   "outputs": [
    {
     "name": "stdout",
     "output_type": "stream",
     "text": [
      "CPU times: user 33.5 s, sys: 479 ms, total: 34 s\n",
      "Wall time: 35.3 s\n"
     ]
    }
   ],
   "source": [
    "%%time\n",
    "# change the path if needed\n",
    "path = '../data/2008.csv.bz2'\n",
    "flights_df = pd.read_csv(path, usecols=dtype.keys(), dtype=dtype)"
   ]
  },
  {
   "cell_type": "markdown",
   "metadata": {},
   "source": [
    "**Check the number of rows and columns and print column names.**"
   ]
  },
  {
   "cell_type": "code",
   "execution_count": 4,
   "metadata": {},
   "outputs": [
    {
     "name": "stdout",
     "output_type": "stream",
     "text": [
      "(7009728, 19)\n",
      "Index(['Year', 'Month', 'DayofMonth', 'DayOfWeek', 'DepTime', 'UniqueCarrier',\n",
      "       'FlightNum', 'ArrDelay', 'DepDelay', 'Origin', 'Dest', 'Distance',\n",
      "       'Cancelled', 'CancellationCode', 'CarrierDelay', 'WeatherDelay',\n",
      "       'NASDelay', 'SecurityDelay', 'LateAircraftDelay'],\n",
      "      dtype='object')\n"
     ]
    }
   ],
   "source": [
    "print(flights_df.shape)\n",
    "print(flights_df.columns)"
   ]
  },
  {
   "cell_type": "markdown",
   "metadata": {},
   "source": [
    "**Print first 5 rows of the dataset.**"
   ]
  },
  {
   "cell_type": "code",
   "execution_count": 5,
   "metadata": {},
   "outputs": [
    {
     "data": {
      "text/html": [
       "<div>\n",
       "<style scoped>\n",
       "    .dataframe tbody tr th:only-of-type {\n",
       "        vertical-align: middle;\n",
       "    }\n",
       "\n",
       "    .dataframe tbody tr th {\n",
       "        vertical-align: top;\n",
       "    }\n",
       "\n",
       "    .dataframe thead th {\n",
       "        text-align: right;\n",
       "    }\n",
       "</style>\n",
       "<table border=\"1\" class=\"dataframe\">\n",
       "  <thead>\n",
       "    <tr style=\"text-align: right;\">\n",
       "      <th></th>\n",
       "      <th>Year</th>\n",
       "      <th>Month</th>\n",
       "      <th>DayofMonth</th>\n",
       "      <th>DayOfWeek</th>\n",
       "      <th>DepTime</th>\n",
       "      <th>UniqueCarrier</th>\n",
       "      <th>FlightNum</th>\n",
       "      <th>ArrDelay</th>\n",
       "      <th>DepDelay</th>\n",
       "      <th>Origin</th>\n",
       "      <th>Dest</th>\n",
       "      <th>Distance</th>\n",
       "      <th>Cancelled</th>\n",
       "      <th>CancellationCode</th>\n",
       "      <th>CarrierDelay</th>\n",
       "      <th>WeatherDelay</th>\n",
       "      <th>NASDelay</th>\n",
       "      <th>SecurityDelay</th>\n",
       "      <th>LateAircraftDelay</th>\n",
       "    </tr>\n",
       "  </thead>\n",
       "  <tbody>\n",
       "    <tr>\n",
       "      <th>0</th>\n",
       "      <td>2008</td>\n",
       "      <td>1</td>\n",
       "      <td>3</td>\n",
       "      <td>4</td>\n",
       "      <td>2003.0</td>\n",
       "      <td>WN</td>\n",
       "      <td>335</td>\n",
       "      <td>-14.0</td>\n",
       "      <td>8.0</td>\n",
       "      <td>IAD</td>\n",
       "      <td>TPA</td>\n",
       "      <td>810</td>\n",
       "      <td>0</td>\n",
       "      <td>NaN</td>\n",
       "      <td>NaN</td>\n",
       "      <td>NaN</td>\n",
       "      <td>NaN</td>\n",
       "      <td>NaN</td>\n",
       "      <td>NaN</td>\n",
       "    </tr>\n",
       "    <tr>\n",
       "      <th>1</th>\n",
       "      <td>2008</td>\n",
       "      <td>1</td>\n",
       "      <td>3</td>\n",
       "      <td>4</td>\n",
       "      <td>754.0</td>\n",
       "      <td>WN</td>\n",
       "      <td>3231</td>\n",
       "      <td>2.0</td>\n",
       "      <td>19.0</td>\n",
       "      <td>IAD</td>\n",
       "      <td>TPA</td>\n",
       "      <td>810</td>\n",
       "      <td>0</td>\n",
       "      <td>NaN</td>\n",
       "      <td>NaN</td>\n",
       "      <td>NaN</td>\n",
       "      <td>NaN</td>\n",
       "      <td>NaN</td>\n",
       "      <td>NaN</td>\n",
       "    </tr>\n",
       "    <tr>\n",
       "      <th>2</th>\n",
       "      <td>2008</td>\n",
       "      <td>1</td>\n",
       "      <td>3</td>\n",
       "      <td>4</td>\n",
       "      <td>628.0</td>\n",
       "      <td>WN</td>\n",
       "      <td>448</td>\n",
       "      <td>14.0</td>\n",
       "      <td>8.0</td>\n",
       "      <td>IND</td>\n",
       "      <td>BWI</td>\n",
       "      <td>515</td>\n",
       "      <td>0</td>\n",
       "      <td>NaN</td>\n",
       "      <td>NaN</td>\n",
       "      <td>NaN</td>\n",
       "      <td>NaN</td>\n",
       "      <td>NaN</td>\n",
       "      <td>NaN</td>\n",
       "    </tr>\n",
       "    <tr>\n",
       "      <th>3</th>\n",
       "      <td>2008</td>\n",
       "      <td>1</td>\n",
       "      <td>3</td>\n",
       "      <td>4</td>\n",
       "      <td>926.0</td>\n",
       "      <td>WN</td>\n",
       "      <td>1746</td>\n",
       "      <td>-6.0</td>\n",
       "      <td>-4.0</td>\n",
       "      <td>IND</td>\n",
       "      <td>BWI</td>\n",
       "      <td>515</td>\n",
       "      <td>0</td>\n",
       "      <td>NaN</td>\n",
       "      <td>NaN</td>\n",
       "      <td>NaN</td>\n",
       "      <td>NaN</td>\n",
       "      <td>NaN</td>\n",
       "      <td>NaN</td>\n",
       "    </tr>\n",
       "    <tr>\n",
       "      <th>4</th>\n",
       "      <td>2008</td>\n",
       "      <td>1</td>\n",
       "      <td>3</td>\n",
       "      <td>4</td>\n",
       "      <td>1829.0</td>\n",
       "      <td>WN</td>\n",
       "      <td>3920</td>\n",
       "      <td>34.0</td>\n",
       "      <td>34.0</td>\n",
       "      <td>IND</td>\n",
       "      <td>BWI</td>\n",
       "      <td>515</td>\n",
       "      <td>0</td>\n",
       "      <td>NaN</td>\n",
       "      <td>2.0</td>\n",
       "      <td>0.0</td>\n",
       "      <td>0.0</td>\n",
       "      <td>0.0</td>\n",
       "      <td>32.0</td>\n",
       "    </tr>\n",
       "  </tbody>\n",
       "</table>\n",
       "</div>"
      ],
      "text/plain": [
       "   Year  Month  DayofMonth  DayOfWeek  DepTime UniqueCarrier  FlightNum  \\\n",
       "0  2008      1           3          4   2003.0            WN        335   \n",
       "1  2008      1           3          4    754.0            WN       3231   \n",
       "2  2008      1           3          4    628.0            WN        448   \n",
       "3  2008      1           3          4    926.0            WN       1746   \n",
       "4  2008      1           3          4   1829.0            WN       3920   \n",
       "\n",
       "   ArrDelay  DepDelay Origin Dest  Distance  Cancelled CancellationCode  \\\n",
       "0     -14.0       8.0    IAD  TPA       810          0              NaN   \n",
       "1       2.0      19.0    IAD  TPA       810          0              NaN   \n",
       "2      14.0       8.0    IND  BWI       515          0              NaN   \n",
       "3      -6.0      -4.0    IND  BWI       515          0              NaN   \n",
       "4      34.0      34.0    IND  BWI       515          0              NaN   \n",
       "\n",
       "   CarrierDelay  WeatherDelay  NASDelay  SecurityDelay  LateAircraftDelay  \n",
       "0           NaN           NaN       NaN            NaN                NaN  \n",
       "1           NaN           NaN       NaN            NaN                NaN  \n",
       "2           NaN           NaN       NaN            NaN                NaN  \n",
       "3           NaN           NaN       NaN            NaN                NaN  \n",
       "4           2.0           0.0       0.0            0.0               32.0  "
      ]
     },
     "execution_count": 5,
     "metadata": {},
     "output_type": "execute_result"
    }
   ],
   "source": [
    "flights_df.head()"
   ]
  },
  {
   "cell_type": "markdown",
   "metadata": {},
   "source": [
    "**Transpose the frame to see all features at once.**"
   ]
  },
  {
   "cell_type": "code",
   "execution_count": 6,
   "metadata": {},
   "outputs": [
    {
     "data": {
      "text/html": [
       "<div>\n",
       "<style scoped>\n",
       "    .dataframe tbody tr th:only-of-type {\n",
       "        vertical-align: middle;\n",
       "    }\n",
       "\n",
       "    .dataframe tbody tr th {\n",
       "        vertical-align: top;\n",
       "    }\n",
       "\n",
       "    .dataframe thead th {\n",
       "        text-align: right;\n",
       "    }\n",
       "</style>\n",
       "<table border=\"1\" class=\"dataframe\">\n",
       "  <thead>\n",
       "    <tr style=\"text-align: right;\">\n",
       "      <th></th>\n",
       "      <th>0</th>\n",
       "      <th>1</th>\n",
       "      <th>2</th>\n",
       "      <th>3</th>\n",
       "      <th>4</th>\n",
       "    </tr>\n",
       "  </thead>\n",
       "  <tbody>\n",
       "    <tr>\n",
       "      <th>Year</th>\n",
       "      <td>2008</td>\n",
       "      <td>2008</td>\n",
       "      <td>2008</td>\n",
       "      <td>2008</td>\n",
       "      <td>2008</td>\n",
       "    </tr>\n",
       "    <tr>\n",
       "      <th>Month</th>\n",
       "      <td>1</td>\n",
       "      <td>1</td>\n",
       "      <td>1</td>\n",
       "      <td>1</td>\n",
       "      <td>1</td>\n",
       "    </tr>\n",
       "    <tr>\n",
       "      <th>DayofMonth</th>\n",
       "      <td>3</td>\n",
       "      <td>3</td>\n",
       "      <td>3</td>\n",
       "      <td>3</td>\n",
       "      <td>3</td>\n",
       "    </tr>\n",
       "    <tr>\n",
       "      <th>DayOfWeek</th>\n",
       "      <td>4</td>\n",
       "      <td>4</td>\n",
       "      <td>4</td>\n",
       "      <td>4</td>\n",
       "      <td>4</td>\n",
       "    </tr>\n",
       "    <tr>\n",
       "      <th>DepTime</th>\n",
       "      <td>2003</td>\n",
       "      <td>754</td>\n",
       "      <td>628</td>\n",
       "      <td>926</td>\n",
       "      <td>1829</td>\n",
       "    </tr>\n",
       "    <tr>\n",
       "      <th>UniqueCarrier</th>\n",
       "      <td>WN</td>\n",
       "      <td>WN</td>\n",
       "      <td>WN</td>\n",
       "      <td>WN</td>\n",
       "      <td>WN</td>\n",
       "    </tr>\n",
       "    <tr>\n",
       "      <th>FlightNum</th>\n",
       "      <td>335</td>\n",
       "      <td>3231</td>\n",
       "      <td>448</td>\n",
       "      <td>1746</td>\n",
       "      <td>3920</td>\n",
       "    </tr>\n",
       "    <tr>\n",
       "      <th>ArrDelay</th>\n",
       "      <td>-14</td>\n",
       "      <td>2</td>\n",
       "      <td>14</td>\n",
       "      <td>-6</td>\n",
       "      <td>34</td>\n",
       "    </tr>\n",
       "    <tr>\n",
       "      <th>DepDelay</th>\n",
       "      <td>8</td>\n",
       "      <td>19</td>\n",
       "      <td>8</td>\n",
       "      <td>-4</td>\n",
       "      <td>34</td>\n",
       "    </tr>\n",
       "    <tr>\n",
       "      <th>Origin</th>\n",
       "      <td>IAD</td>\n",
       "      <td>IAD</td>\n",
       "      <td>IND</td>\n",
       "      <td>IND</td>\n",
       "      <td>IND</td>\n",
       "    </tr>\n",
       "    <tr>\n",
       "      <th>Dest</th>\n",
       "      <td>TPA</td>\n",
       "      <td>TPA</td>\n",
       "      <td>BWI</td>\n",
       "      <td>BWI</td>\n",
       "      <td>BWI</td>\n",
       "    </tr>\n",
       "    <tr>\n",
       "      <th>Distance</th>\n",
       "      <td>810</td>\n",
       "      <td>810</td>\n",
       "      <td>515</td>\n",
       "      <td>515</td>\n",
       "      <td>515</td>\n",
       "    </tr>\n",
       "    <tr>\n",
       "      <th>Cancelled</th>\n",
       "      <td>0</td>\n",
       "      <td>0</td>\n",
       "      <td>0</td>\n",
       "      <td>0</td>\n",
       "      <td>0</td>\n",
       "    </tr>\n",
       "    <tr>\n",
       "      <th>CancellationCode</th>\n",
       "      <td>NaN</td>\n",
       "      <td>NaN</td>\n",
       "      <td>NaN</td>\n",
       "      <td>NaN</td>\n",
       "      <td>NaN</td>\n",
       "    </tr>\n",
       "    <tr>\n",
       "      <th>CarrierDelay</th>\n",
       "      <td>NaN</td>\n",
       "      <td>NaN</td>\n",
       "      <td>NaN</td>\n",
       "      <td>NaN</td>\n",
       "      <td>2</td>\n",
       "    </tr>\n",
       "    <tr>\n",
       "      <th>WeatherDelay</th>\n",
       "      <td>NaN</td>\n",
       "      <td>NaN</td>\n",
       "      <td>NaN</td>\n",
       "      <td>NaN</td>\n",
       "      <td>0</td>\n",
       "    </tr>\n",
       "    <tr>\n",
       "      <th>NASDelay</th>\n",
       "      <td>NaN</td>\n",
       "      <td>NaN</td>\n",
       "      <td>NaN</td>\n",
       "      <td>NaN</td>\n",
       "      <td>0</td>\n",
       "    </tr>\n",
       "    <tr>\n",
       "      <th>SecurityDelay</th>\n",
       "      <td>NaN</td>\n",
       "      <td>NaN</td>\n",
       "      <td>NaN</td>\n",
       "      <td>NaN</td>\n",
       "      <td>0</td>\n",
       "    </tr>\n",
       "    <tr>\n",
       "      <th>LateAircraftDelay</th>\n",
       "      <td>NaN</td>\n",
       "      <td>NaN</td>\n",
       "      <td>NaN</td>\n",
       "      <td>NaN</td>\n",
       "      <td>32</td>\n",
       "    </tr>\n",
       "  </tbody>\n",
       "</table>\n",
       "</div>"
      ],
      "text/plain": [
       "                      0     1     2     3     4\n",
       "Year               2008  2008  2008  2008  2008\n",
       "Month                 1     1     1     1     1\n",
       "DayofMonth            3     3     3     3     3\n",
       "DayOfWeek             4     4     4     4     4\n",
       "DepTime            2003   754   628   926  1829\n",
       "UniqueCarrier        WN    WN    WN    WN    WN\n",
       "FlightNum           335  3231   448  1746  3920\n",
       "ArrDelay            -14     2    14    -6    34\n",
       "DepDelay              8    19     8    -4    34\n",
       "Origin              IAD   IAD   IND   IND   IND\n",
       "Dest                TPA   TPA   BWI   BWI   BWI\n",
       "Distance            810   810   515   515   515\n",
       "Cancelled             0     0     0     0     0\n",
       "CancellationCode    NaN   NaN   NaN   NaN   NaN\n",
       "CarrierDelay        NaN   NaN   NaN   NaN     2\n",
       "WeatherDelay        NaN   NaN   NaN   NaN     0\n",
       "NASDelay            NaN   NaN   NaN   NaN     0\n",
       "SecurityDelay       NaN   NaN   NaN   NaN     0\n",
       "LateAircraftDelay   NaN   NaN   NaN   NaN    32"
      ]
     },
     "execution_count": 6,
     "metadata": {},
     "output_type": "execute_result"
    }
   ],
   "source": [
    "flights_df.head().T"
   ]
  },
  {
   "cell_type": "markdown",
   "metadata": {},
   "source": [
    "**Examine data types of all features and total dataframe size in memory.**"
   ]
  },
  {
   "cell_type": "code",
   "execution_count": 7,
   "metadata": {},
   "outputs": [
    {
     "name": "stdout",
     "output_type": "stream",
     "text": [
      "<class 'pandas.core.frame.DataFrame'>\n",
      "RangeIndex: 7009728 entries, 0 to 7009727\n",
      "Data columns (total 19 columns):\n",
      "Year                 uint16\n",
      "Month                uint8\n",
      "DayofMonth           uint8\n",
      "DayOfWeek            uint8\n",
      "DepTime              float16\n",
      "UniqueCarrier        object\n",
      "FlightNum            uint16\n",
      "ArrDelay             float16\n",
      "DepDelay             float16\n",
      "Origin               object\n",
      "Dest                 object\n",
      "Distance             uint16\n",
      "Cancelled            uint8\n",
      "CancellationCode     object\n",
      "CarrierDelay         float16\n",
      "WeatherDelay         float16\n",
      "NASDelay             float16\n",
      "SecurityDelay        float16\n",
      "LateAircraftDelay    float16\n",
      "dtypes: float16(8), object(4), uint16(3), uint8(4)\n",
      "memory usage: 387.7+ MB\n"
     ]
    }
   ],
   "source": [
    "flights_df.info()"
   ]
  },
  {
   "cell_type": "markdown",
   "metadata": {},
   "source": [
    "**Get basic statistics of each feature.**"
   ]
  },
  {
   "cell_type": "code",
   "execution_count": 8,
   "metadata": {},
   "outputs": [
    {
     "data": {
      "text/html": [
       "<div>\n",
       "<style scoped>\n",
       "    .dataframe tbody tr th:only-of-type {\n",
       "        vertical-align: middle;\n",
       "    }\n",
       "\n",
       "    .dataframe tbody tr th {\n",
       "        vertical-align: top;\n",
       "    }\n",
       "\n",
       "    .dataframe thead th {\n",
       "        text-align: right;\n",
       "    }\n",
       "</style>\n",
       "<table border=\"1\" class=\"dataframe\">\n",
       "  <thead>\n",
       "    <tr style=\"text-align: right;\">\n",
       "      <th></th>\n",
       "      <th>count</th>\n",
       "      <th>mean</th>\n",
       "      <th>std</th>\n",
       "      <th>min</th>\n",
       "      <th>25%</th>\n",
       "      <th>50%</th>\n",
       "      <th>75%</th>\n",
       "      <th>max</th>\n",
       "    </tr>\n",
       "  </thead>\n",
       "  <tbody>\n",
       "    <tr>\n",
       "      <th>Year</th>\n",
       "      <td>7009728.0</td>\n",
       "      <td>2008.000000</td>\n",
       "      <td>0.000000</td>\n",
       "      <td>2008.0</td>\n",
       "      <td>2008.0</td>\n",
       "      <td>2008.0</td>\n",
       "      <td>2008.0</td>\n",
       "      <td>2008.0</td>\n",
       "    </tr>\n",
       "    <tr>\n",
       "      <th>Month</th>\n",
       "      <td>7009728.0</td>\n",
       "      <td>6.375130</td>\n",
       "      <td>3.406737</td>\n",
       "      <td>1.0</td>\n",
       "      <td>3.0</td>\n",
       "      <td>6.0</td>\n",
       "      <td>9.0</td>\n",
       "      <td>12.0</td>\n",
       "    </tr>\n",
       "    <tr>\n",
       "      <th>DayofMonth</th>\n",
       "      <td>7009728.0</td>\n",
       "      <td>15.728015</td>\n",
       "      <td>8.797068</td>\n",
       "      <td>1.0</td>\n",
       "      <td>8.0</td>\n",
       "      <td>16.0</td>\n",
       "      <td>23.0</td>\n",
       "      <td>31.0</td>\n",
       "    </tr>\n",
       "    <tr>\n",
       "      <th>DayOfWeek</th>\n",
       "      <td>7009728.0</td>\n",
       "      <td>3.924182</td>\n",
       "      <td>1.988259</td>\n",
       "      <td>1.0</td>\n",
       "      <td>2.0</td>\n",
       "      <td>4.0</td>\n",
       "      <td>6.0</td>\n",
       "      <td>7.0</td>\n",
       "    </tr>\n",
       "    <tr>\n",
       "      <th>DepTime</th>\n",
       "      <td>6873482.0</td>\n",
       "      <td>NaN</td>\n",
       "      <td>NaN</td>\n",
       "      <td>1.0</td>\n",
       "      <td>928.0</td>\n",
       "      <td>1325.0</td>\n",
       "      <td>1728.0</td>\n",
       "      <td>2400.0</td>\n",
       "    </tr>\n",
       "    <tr>\n",
       "      <th>FlightNum</th>\n",
       "      <td>7009728.0</td>\n",
       "      <td>2224.200105</td>\n",
       "      <td>1961.715999</td>\n",
       "      <td>1.0</td>\n",
       "      <td>622.0</td>\n",
       "      <td>1571.0</td>\n",
       "      <td>3518.0</td>\n",
       "      <td>9743.0</td>\n",
       "    </tr>\n",
       "    <tr>\n",
       "      <th>ArrDelay</th>\n",
       "      <td>6855029.0</td>\n",
       "      <td>NaN</td>\n",
       "      <td>NaN</td>\n",
       "      <td>-519.0</td>\n",
       "      <td>-10.0</td>\n",
       "      <td>-2.0</td>\n",
       "      <td>12.0</td>\n",
       "      <td>2460.0</td>\n",
       "    </tr>\n",
       "    <tr>\n",
       "      <th>DepDelay</th>\n",
       "      <td>6873482.0</td>\n",
       "      <td>NaN</td>\n",
       "      <td>NaN</td>\n",
       "      <td>-534.0</td>\n",
       "      <td>-4.0</td>\n",
       "      <td>-1.0</td>\n",
       "      <td>8.0</td>\n",
       "      <td>2468.0</td>\n",
       "    </tr>\n",
       "    <tr>\n",
       "      <th>Distance</th>\n",
       "      <td>7009728.0</td>\n",
       "      <td>726.387029</td>\n",
       "      <td>562.101803</td>\n",
       "      <td>11.0</td>\n",
       "      <td>325.0</td>\n",
       "      <td>581.0</td>\n",
       "      <td>954.0</td>\n",
       "      <td>4962.0</td>\n",
       "    </tr>\n",
       "    <tr>\n",
       "      <th>Cancelled</th>\n",
       "      <td>7009728.0</td>\n",
       "      <td>0.019606</td>\n",
       "      <td>0.138643</td>\n",
       "      <td>0.0</td>\n",
       "      <td>0.0</td>\n",
       "      <td>0.0</td>\n",
       "      <td>0.0</td>\n",
       "      <td>1.0</td>\n",
       "    </tr>\n",
       "    <tr>\n",
       "      <th>CarrierDelay</th>\n",
       "      <td>1524735.0</td>\n",
       "      <td>NaN</td>\n",
       "      <td>NaN</td>\n",
       "      <td>0.0</td>\n",
       "      <td>0.0</td>\n",
       "      <td>0.0</td>\n",
       "      <td>16.0</td>\n",
       "      <td>2436.0</td>\n",
       "    </tr>\n",
       "    <tr>\n",
       "      <th>WeatherDelay</th>\n",
       "      <td>1524735.0</td>\n",
       "      <td>NaN</td>\n",
       "      <td>NaN</td>\n",
       "      <td>0.0</td>\n",
       "      <td>0.0</td>\n",
       "      <td>0.0</td>\n",
       "      <td>0.0</td>\n",
       "      <td>1352.0</td>\n",
       "    </tr>\n",
       "    <tr>\n",
       "      <th>NASDelay</th>\n",
       "      <td>1524735.0</td>\n",
       "      <td>NaN</td>\n",
       "      <td>NaN</td>\n",
       "      <td>0.0</td>\n",
       "      <td>0.0</td>\n",
       "      <td>6.0</td>\n",
       "      <td>21.0</td>\n",
       "      <td>1357.0</td>\n",
       "    </tr>\n",
       "    <tr>\n",
       "      <th>SecurityDelay</th>\n",
       "      <td>1524735.0</td>\n",
       "      <td>NaN</td>\n",
       "      <td>NaN</td>\n",
       "      <td>0.0</td>\n",
       "      <td>0.0</td>\n",
       "      <td>0.0</td>\n",
       "      <td>0.0</td>\n",
       "      <td>392.0</td>\n",
       "    </tr>\n",
       "    <tr>\n",
       "      <th>LateAircraftDelay</th>\n",
       "      <td>1524735.0</td>\n",
       "      <td>NaN</td>\n",
       "      <td>NaN</td>\n",
       "      <td>0.0</td>\n",
       "      <td>0.0</td>\n",
       "      <td>0.0</td>\n",
       "      <td>26.0</td>\n",
       "      <td>1316.0</td>\n",
       "    </tr>\n",
       "  </tbody>\n",
       "</table>\n",
       "</div>"
      ],
      "text/plain": [
       "                       count         mean          std     min     25%  \\\n",
       "Year               7009728.0  2008.000000     0.000000  2008.0  2008.0   \n",
       "Month              7009728.0     6.375130     3.406737     1.0     3.0   \n",
       "DayofMonth         7009728.0    15.728015     8.797068     1.0     8.0   \n",
       "DayOfWeek          7009728.0     3.924182     1.988259     1.0     2.0   \n",
       "DepTime            6873482.0          NaN          NaN     1.0   928.0   \n",
       "FlightNum          7009728.0  2224.200105  1961.715999     1.0   622.0   \n",
       "ArrDelay           6855029.0          NaN          NaN  -519.0   -10.0   \n",
       "DepDelay           6873482.0          NaN          NaN  -534.0    -4.0   \n",
       "Distance           7009728.0   726.387029   562.101803    11.0   325.0   \n",
       "Cancelled          7009728.0     0.019606     0.138643     0.0     0.0   \n",
       "CarrierDelay       1524735.0          NaN          NaN     0.0     0.0   \n",
       "WeatherDelay       1524735.0          NaN          NaN     0.0     0.0   \n",
       "NASDelay           1524735.0          NaN          NaN     0.0     0.0   \n",
       "SecurityDelay      1524735.0          NaN          NaN     0.0     0.0   \n",
       "LateAircraftDelay  1524735.0          NaN          NaN     0.0     0.0   \n",
       "\n",
       "                      50%     75%     max  \n",
       "Year               2008.0  2008.0  2008.0  \n",
       "Month                 6.0     9.0    12.0  \n",
       "DayofMonth           16.0    23.0    31.0  \n",
       "DayOfWeek             4.0     6.0     7.0  \n",
       "DepTime            1325.0  1728.0  2400.0  \n",
       "FlightNum          1571.0  3518.0  9743.0  \n",
       "ArrDelay             -2.0    12.0  2460.0  \n",
       "DepDelay             -1.0     8.0  2468.0  \n",
       "Distance            581.0   954.0  4962.0  \n",
       "Cancelled             0.0     0.0     1.0  \n",
       "CarrierDelay          0.0    16.0  2436.0  \n",
       "WeatherDelay          0.0     0.0  1352.0  \n",
       "NASDelay              6.0    21.0  1357.0  \n",
       "SecurityDelay         0.0     0.0   392.0  \n",
       "LateAircraftDelay     0.0    26.0  1316.0  "
      ]
     },
     "execution_count": 8,
     "metadata": {},
     "output_type": "execute_result"
    }
   ],
   "source": [
    "flights_df.describe().T"
   ]
  },
  {
   "cell_type": "markdown",
   "metadata": {},
   "source": [
    "**Count unique Carriers and plot their relative share of flights:**"
   ]
  },
  {
   "cell_type": "code",
   "execution_count": 9,
   "metadata": {},
   "outputs": [
    {
     "data": {
      "text/plain": [
       "20"
      ]
     },
     "execution_count": 9,
     "metadata": {},
     "output_type": "execute_result"
    }
   ],
   "source": [
    "flights_df['UniqueCarrier'].nunique()"
   ]
  },
  {
   "cell_type": "code",
   "execution_count": 10,
   "metadata": {
    "scrolled": true
   },
   "outputs": [
    {
     "data": {
      "image/png": "[encoded data removed]",
      "text/plain": [
       "<Figure size 432x288 with 1 Axes>"
      ]
     },
     "metadata": {
      "needs_background": "light"
     },
     "output_type": "display_data"
    }
   ],
   "source": [
    "flights_df.groupby('UniqueCarrier').size().plot(kind='bar');"
   ]
  },
  {
   "cell_type": "markdown",
   "metadata": {},
   "source": [
    "**We can also _group by_ category/categories in order to calculate different aggregated statistics.**\n",
    "\n",
    "**For example, finding top-3 flight codes, that have the largest total distance travelled in year 2008.**"
   ]
  },
  {
   "cell_type": "code",
   "execution_count": 11,
   "metadata": {},
   "outputs": [
    {
     "data": {
      "text/plain": [
       "UniqueCarrier  FlightNum\n",
       "CO             15           1796244.0\n",
       "               14           1796244.0\n",
       "UA             52           1789722.0\n",
       "AA             283          1777332.0\n",
       "UA             44           1733556.0\n",
       "Name: Distance, dtype: float64"
      ]
     },
     "execution_count": 11,
     "metadata": {},
     "output_type": "execute_result"
    }
   ],
   "source": [
    "flights_df.groupby(['UniqueCarrier','FlightNum'])['Distance'].sum().sort_values(\n",
    "    ascending=False).iloc[:5]"
   ]
  },
  {
   "cell_type": "markdown",
   "metadata": {},
   "source": [
    "**Another way:**"
   ]
  },
  {
   "cell_type": "code",
   "execution_count": 12,
   "metadata": {},
   "outputs": [
    {
     "data": {
      "text/html": [
       "<div>\n",
       "<style scoped>\n",
       "    .dataframe tbody tr th:only-of-type {\n",
       "        vertical-align: middle;\n",
       "    }\n",
       "\n",
       "    .dataframe tbody tr th {\n",
       "        vertical-align: top;\n",
       "    }\n",
       "\n",
       "    .dataframe thead tr th {\n",
       "        text-align: left;\n",
       "    }\n",
       "\n",
       "    .dataframe thead tr:last-of-type th {\n",
       "        text-align: right;\n",
       "    }\n",
       "</style>\n",
       "<table border=\"1\" class=\"dataframe\">\n",
       "  <thead>\n",
       "    <tr>\n",
       "      <th></th>\n",
       "      <th></th>\n",
       "      <th colspan=\"3\" halign=\"left\">Distance</th>\n",
       "      <th>Cancelled</th>\n",
       "    </tr>\n",
       "    <tr>\n",
       "      <th></th>\n",
       "      <th></th>\n",
       "      <th>mean</th>\n",
       "      <th>sum</th>\n",
       "      <th>count</th>\n",
       "      <th>sum</th>\n",
       "    </tr>\n",
       "    <tr>\n",
       "      <th>UniqueCarrier</th>\n",
       "      <th>FlightNum</th>\n",
       "      <th></th>\n",
       "      <th></th>\n",
       "      <th></th>\n",
       "      <th></th>\n",
       "    </tr>\n",
       "  </thead>\n",
       "  <tbody>\n",
       "    <tr>\n",
       "      <th rowspan=\"2\" valign=\"top\">CO</th>\n",
       "      <th>15</th>\n",
       "      <td>4962.000000</td>\n",
       "      <td>1796244.0</td>\n",
       "      <td>362</td>\n",
       "      <td>0</td>\n",
       "    </tr>\n",
       "    <tr>\n",
       "      <th>14</th>\n",
       "      <td>4962.000000</td>\n",
       "      <td>1796244.0</td>\n",
       "      <td>362</td>\n",
       "      <td>0</td>\n",
       "    </tr>\n",
       "    <tr>\n",
       "      <th>UA</th>\n",
       "      <th>52</th>\n",
       "      <td>2465.181818</td>\n",
       "      <td>1789722.0</td>\n",
       "      <td>726</td>\n",
       "      <td>8</td>\n",
       "    </tr>\n",
       "    <tr>\n",
       "      <th>AA</th>\n",
       "      <th>283</th>\n",
       "      <td>2448.115702</td>\n",
       "      <td>1777332.0</td>\n",
       "      <td>726</td>\n",
       "      <td>2</td>\n",
       "    </tr>\n",
       "    <tr>\n",
       "      <th>UA</th>\n",
       "      <th>44</th>\n",
       "      <td>2387.818182</td>\n",
       "      <td>1733556.0</td>\n",
       "      <td>726</td>\n",
       "      <td>0</td>\n",
       "    </tr>\n",
       "  </tbody>\n",
       "</table>\n",
       "</div>"
      ],
      "text/plain": [
       "                            Distance                  Cancelled\n",
       "                                mean        sum count       sum\n",
       "UniqueCarrier FlightNum                                        \n",
       "CO            15         4962.000000  1796244.0   362         0\n",
       "              14         4962.000000  1796244.0   362         0\n",
       "UA            52         2465.181818  1789722.0   726         8\n",
       "AA            283        2448.115702  1777332.0   726         2\n",
       "UA            44         2387.818182  1733556.0   726         0"
      ]
     },
     "execution_count": 12,
     "metadata": {},
     "output_type": "execute_result"
    }
   ],
   "source": [
    "flights_df.groupby(['UniqueCarrier','FlightNum'])\\\n",
    "  .agg({'Distance': [np.mean, np.sum, 'count'],\n",
    "        'Cancelled': np.sum})\\\n",
    "  .sort_values(('Distance', 'sum'), ascending=False)\\\n",
    "  .iloc[:5]"
   ]
  },
  {
   "cell_type": "markdown",
   "metadata": {},
   "source": [
    "**Number of flights by days of week and months:**"
   ]
  },
  {
   "cell_type": "code",
   "execution_count": 13,
   "metadata": {},
   "outputs": [
    {
     "data": {
      "text/html": [
       "<div>\n",
       "<style scoped>\n",
       "    .dataframe tbody tr th:only-of-type {\n",
       "        vertical-align: middle;\n",
       "    }\n",
       "\n",
       "    .dataframe tbody tr th {\n",
       "        vertical-align: top;\n",
       "    }\n",
       "\n",
       "    .dataframe thead th {\n",
       "        text-align: right;\n",
       "    }\n",
       "</style>\n",
       "<table border=\"1\" class=\"dataframe\">\n",
       "  <thead>\n",
       "    <tr style=\"text-align: right;\">\n",
       "      <th>DayOfWeek</th>\n",
       "      <th>1</th>\n",
       "      <th>2</th>\n",
       "      <th>3</th>\n",
       "      <th>4</th>\n",
       "      <th>5</th>\n",
       "      <th>6</th>\n",
       "      <th>7</th>\n",
       "    </tr>\n",
       "    <tr>\n",
       "      <th>Month</th>\n",
       "      <th></th>\n",
       "      <th></th>\n",
       "      <th></th>\n",
       "      <th></th>\n",
       "      <th></th>\n",
       "      <th></th>\n",
       "      <th></th>\n",
       "    </tr>\n",
       "  </thead>\n",
       "  <tbody>\n",
       "    <tr>\n",
       "      <th>1</th>\n",
       "      <td>80807</td>\n",
       "      <td>97298</td>\n",
       "      <td>100080</td>\n",
       "      <td>102043</td>\n",
       "      <td>81940</td>\n",
       "      <td>67178</td>\n",
       "      <td>76419</td>\n",
       "    </tr>\n",
       "    <tr>\n",
       "      <th>2</th>\n",
       "      <td>81504</td>\n",
       "      <td>79700</td>\n",
       "      <td>80587</td>\n",
       "      <td>82158</td>\n",
       "      <td>102726</td>\n",
       "      <td>66462</td>\n",
       "      <td>76099</td>\n",
       "    </tr>\n",
       "    <tr>\n",
       "      <th>3</th>\n",
       "      <td>103210</td>\n",
       "      <td>81159</td>\n",
       "      <td>82307</td>\n",
       "      <td>82831</td>\n",
       "      <td>82936</td>\n",
       "      <td>86153</td>\n",
       "      <td>97494</td>\n",
       "    </tr>\n",
       "    <tr>\n",
       "      <th>4</th>\n",
       "      <td>82463</td>\n",
       "      <td>100785</td>\n",
       "      <td>102586</td>\n",
       "      <td>82799</td>\n",
       "      <td>82964</td>\n",
       "      <td>68304</td>\n",
       "      <td>78225</td>\n",
       "    </tr>\n",
       "    <tr>\n",
       "      <th>5</th>\n",
       "      <td>80626</td>\n",
       "      <td>79884</td>\n",
       "      <td>81264</td>\n",
       "      <td>102572</td>\n",
       "      <td>102878</td>\n",
       "      <td>84493</td>\n",
       "      <td>74576</td>\n",
       "    </tr>\n",
       "    <tr>\n",
       "      <th>6</th>\n",
       "      <td>104168</td>\n",
       "      <td>82160</td>\n",
       "      <td>82902</td>\n",
       "      <td>83617</td>\n",
       "      <td>83930</td>\n",
       "      <td>72322</td>\n",
       "      <td>99566</td>\n",
       "    </tr>\n",
       "    <tr>\n",
       "      <th>7</th>\n",
       "      <td>84095</td>\n",
       "      <td>103429</td>\n",
       "      <td>103315</td>\n",
       "      <td>105035</td>\n",
       "      <td>79349</td>\n",
       "      <td>72219</td>\n",
       "      <td>80489</td>\n",
       "    </tr>\n",
       "    <tr>\n",
       "      <th>8</th>\n",
       "      <td>82983</td>\n",
       "      <td>80895</td>\n",
       "      <td>81773</td>\n",
       "      <td>82625</td>\n",
       "      <td>103878</td>\n",
       "      <td>86155</td>\n",
       "      <td>93970</td>\n",
       "    </tr>\n",
       "    <tr>\n",
       "      <th>9</th>\n",
       "      <td>94300</td>\n",
       "      <td>91533</td>\n",
       "      <td>74057</td>\n",
       "      <td>75589</td>\n",
       "      <td>75881</td>\n",
       "      <td>58343</td>\n",
       "      <td>71205</td>\n",
       "    </tr>\n",
       "    <tr>\n",
       "      <th>10</th>\n",
       "      <td>75131</td>\n",
       "      <td>72195</td>\n",
       "      <td>91900</td>\n",
       "      <td>94123</td>\n",
       "      <td>93894</td>\n",
       "      <td>58168</td>\n",
       "      <td>70794</td>\n",
       "    </tr>\n",
       "    <tr>\n",
       "      <th>11</th>\n",
       "      <td>74214</td>\n",
       "      <td>72443</td>\n",
       "      <td>73653</td>\n",
       "      <td>68071</td>\n",
       "      <td>70484</td>\n",
       "      <td>76031</td>\n",
       "      <td>88376</td>\n",
       "    </tr>\n",
       "    <tr>\n",
       "      <th>12</th>\n",
       "      <td>92700</td>\n",
       "      <td>90568</td>\n",
       "      <td>85241</td>\n",
       "      <td>70761</td>\n",
       "      <td>74306</td>\n",
       "      <td>61708</td>\n",
       "      <td>69674</td>\n",
       "    </tr>\n",
       "  </tbody>\n",
       "</table>\n",
       "</div>"
      ],
      "text/plain": [
       "DayOfWeek       1       2       3       4       5      6      7\n",
       "Month                                                          \n",
       "1           80807   97298  100080  102043   81940  67178  76419\n",
       "2           81504   79700   80587   82158  102726  66462  76099\n",
       "3          103210   81159   82307   82831   82936  86153  97494\n",
       "4           82463  100785  102586   82799   82964  68304  78225\n",
       "5           80626   79884   81264  102572  102878  84493  74576\n",
       "6          104168   82160   82902   83617   83930  72322  99566\n",
       "7           84095  103429  103315  105035   79349  72219  80489\n",
       "8           82983   80895   81773   82625  103878  86155  93970\n",
       "9           94300   91533   74057   75589   75881  58343  71205\n",
       "10          75131   72195   91900   94123   93894  58168  70794\n",
       "11          74214   72443   73653   68071   70484  76031  88376\n",
       "12          92700   90568   85241   70761   74306  61708  69674"
      ]
     },
     "execution_count": 13,
     "metadata": {},
     "output_type": "execute_result"
    }
   ],
   "source": [
    "pd.crosstab(flights_df.Month, flights_df.DayOfWeek)"
   ]
  },
  {
   "cell_type": "markdown",
   "metadata": {},
   "source": [
    "**It can also be handy to color such tables in order to easily notice outliers:**"
   ]
  },
  {
   "cell_type": "code",
   "execution_count": 14,
   "metadata": {
    "scrolled": true
   },
   "outputs": [
    {
     "data": {
      "image/png": "[encoded data removed]",
      "text/plain": [
       "<Figure size 432x288 with 1 Axes>"
      ]
     },
     "metadata": {
      "needs_background": "light"
     },
     "output_type": "display_data"
    }
   ],
   "source": [
    "plt.imshow(pd.crosstab(flights_df.Month, flights_df.DayOfWeek),\n",
    "           cmap='seismic', interpolation='none');"
   ]
  },
  {
   "cell_type": "markdown",
   "metadata": {},
   "source": [
    "**Flight distance histogram:**"
   ]
  },
  {
   "cell_type": "code",
   "execution_count": 15,
   "metadata": {
    "scrolled": false
   },
   "outputs": [
    {
     "data": {
      "image/png": "[encoded data removed]",
      "text/plain": [
       "<Figure size 432x288 with 1 Axes>"
      ]
     },
     "metadata": {
      "needs_background": "light"
     },
     "output_type": "display_data"
    }
   ],
   "source": [
    "flights_df.hist('Distance', bins=20);"
   ]
  },
  {
   "cell_type": "markdown",
   "metadata": {},
   "source": [
    "**Making a histogram of flight frequency by date.**"
   ]
  },
  {
   "cell_type": "code",
   "execution_count": 16,
   "metadata": {},
   "outputs": [],
   "source": [
    "flights_df['Date'] = pd.to_datetime(flights_df.rename(\n",
    "    columns={'DayofMonth': 'Day'})[['Year', 'Month', 'Day']])"
   ]
  },
  {
   "cell_type": "code",
   "execution_count": 17,
   "metadata": {},
   "outputs": [],
   "source": [
    "num_flights_by_date = flights_df.groupby('Date').size()"
   ]
  },
  {
   "cell_type": "code",
   "execution_count": 18,
   "metadata": {},
   "outputs": [
    {
     "data": {
      "image/png": "[encoded data removed]",
      "text/plain": [
       "<Figure size 432x288 with 1 Axes>"
      ]
     },
     "metadata": {
      "needs_background": "light"
     },
     "output_type": "display_data"
    }
   ],
   "source": [
    "num_flights_by_date.plot();"
   ]
  },
  {
   "cell_type": "markdown",
   "metadata": {},
   "source": [
    "**Do you see a weekly pattern above? And below?**"
   ]
  },
  {
   "cell_type": "code",
   "execution_count": 19,
   "metadata": {},
   "outputs": [
    {
     "data": {
      "image/png": "[encoded data removed]",
      "text/plain": [
       "<Figure size 432x288 with 1 Axes>"
      ]
     },
     "metadata": {
      "needs_background": "light"
     },
     "output_type": "display_data"
    }
   ],
   "source": [
    "num_flights_by_date.rolling(window=7).mean().plot();"
   ]
  },
  {
   "cell_type": "markdown",
   "metadata": {},
   "source": [
    "**We'll need a new column in our dataset - departure hour, let's create it.**\n",
    "\n",
    "As we see, `DepTime` is distributed from 1 to 2400 (it is given in the `hhmm` format, check the [column description](https://www.transtats.bts.gov/Fields.asp?Table_ID=236) again). We'll treat departure hour as `DepTime` // 100 (divide by 100 and apply the `floor` function). However, now we'll have both hour 0 and hour 24. Hour 24 sounds strange, we'll set it to be 0 instead (a typical imperfectness of real data, however, you can check that it affects only 521 rows, which is sort of not a big deal). So now values of a new column `DepHour` will be distributed from 0 to 23. There are some missing values, for now we won't fill in them, just ignore them. "
   ]
  },
  {
   "cell_type": "code",
   "execution_count": 20,
   "metadata": {},
   "outputs": [],
   "source": [
    "flights_df['DepHour'] = flights_df['DepTime'] // 100\n",
    "flights_df['DepHour'].replace(to_replace=24, value=0, inplace=True)"
   ]
  },
  {
   "cell_type": "code",
   "execution_count": 21,
   "metadata": {},
   "outputs": [
    {
     "data": {
      "text/plain": [
       "count    6873482.0\n",
       "mean           NaN\n",
       "std            0.0\n",
       "min            0.0\n",
       "25%            9.0\n",
       "50%           13.0\n",
       "75%           17.0\n",
       "max           23.0\n",
       "Name: DepHour, dtype: float64"
      ]
     },
     "execution_count": 21,
     "metadata": {},
     "output_type": "execute_result"
    }
   ],
   "source": [
    "flights_df['DepHour'].describe()"
   ]
  },
  {
   "cell_type": "markdown",
   "metadata": {},
   "source": [
    "### Now it's your turn. Answer the questions below."
   ]
  },
  {
   "cell_type": "markdown",
   "metadata": {},
   "source": [
    "**1. How many unique carriers are there in our dataset?**\n",
    "\n",
    "- 10\n",
    "- 15\n",
    "- 20\n",
    "- 25 "
   ]
  },
  {
   "cell_type": "code",
   "execution_count": 22,
   "metadata": {},
   "outputs": [
    {
     "data": {
      "text/plain": [
       "20"
      ]
     },
     "execution_count": 22,
     "metadata": {},
     "output_type": "execute_result"
    }
   ],
   "source": [
    "flights_df['UniqueCarrier'].unique().size"
   ]
  },
  {
   "cell_type": "markdown",
   "metadata": {},
   "source": [
    "**2. We have  both cancelled and completed flights in the datset. Check if there are more completed or cancelled flights. What is the difference?** <br>\n",
    "\n",
    "*Hint:* Take a look at *Cancelled* to see the categories and *FlightNum* column to calculate unique flights for each category.\n",
    "\n",
    "- Cancelled overweights completed by 329 flights\n",
    "- Completed overweights cancelled by 6734860 flights\n",
    "- Cancelled overweights completed by 671 flights\n",
    "- Completed overweights cancelled by 11088967 flights"
   ]
  },
  {
   "cell_type": "code",
   "execution_count": 23,
   "metadata": {},
   "outputs": [
    {
     "data": {
      "text/plain": [
       "Cancelled\n",
       "0    6872294\n",
       "1     137434\n",
       "dtype: int64"
      ]
     },
     "execution_count": 23,
     "metadata": {},
     "output_type": "execute_result"
    }
   ],
   "source": [
    "flights_df.groupby(['Cancelled']).size()"
   ]
  },
  {
   "cell_type": "markdown",
   "metadata": {},
   "source": [
    "**3. Find a flight with the longest departure delays and a flight with the longest arrival delay. Do they have the same destination airport, and if yes, what is its code?**\n",
    "\n",
    "- yes, ATL\n",
    "- yes, HNL\n",
    "- yes, MSP\n",
    "- no"
   ]
  },
  {
   "cell_type": "code",
   "execution_count": 24,
   "metadata": {},
   "outputs": [
    {
     "data": {
      "text/plain": [
       "('MSP', 'MSP')"
      ]
     },
     "execution_count": 24,
     "metadata": {},
     "output_type": "execute_result"
    }
   ],
   "source": [
    "flights_df.iloc[flights_df['DepDelay'].idxmax()]['Dest'], \\\n",
    "flights_df.iloc[flights_df['ArrDelay'].idxmax()]['Dest']"
   ]
  },
  {
   "cell_type": "markdown",
   "metadata": {},
   "source": [
    "**4. Find the carrier that has the greatest number of cancelled flights.**\n",
    "\n",
    "- AA\n",
    "- MQ\n",
    "- WN\n",
    "- CO "
   ]
  },
  {
   "cell_type": "code",
   "execution_count": 25,
   "metadata": {},
   "outputs": [
    {
     "data": {
      "text/plain": [
       "UniqueCarrier\n",
       "AQ       42\n",
       "F9      303\n",
       "HA      570\n",
       "AS     2139\n",
       "FL     2236\n",
       "NW     2906\n",
       "B6     3205\n",
       "CO     3702\n",
       "EV     5026\n",
       "OH     6462\n",
       "US     6582\n",
       "DL     6813\n",
       "9E     7100\n",
       "YV     9219\n",
       "XE     9992\n",
       "UA    10541\n",
       "WN    12389\n",
       "OO    12436\n",
       "AA    17440\n",
       "MQ    18331\n",
       "dtype: int64"
      ]
     },
     "execution_count": 25,
     "metadata": {},
     "output_type": "execute_result"
    }
   ],
   "source": [
    "flights_df[flights_df['Cancelled'] == 1].groupby(['UniqueCarrier']).size().sort_values()"
   ]
  },
  {
   "cell_type": "markdown",
   "metadata": {},
   "source": [
    "**5. Let's examine departure time and consider distribution by hour (column `DepHour` that we've created earlier). Which hour has the highest percentage of flights?**<br>\n",
    "\n",
    "- 1 am \n",
    "- 5 am  \n",
    "- 8 am\n",
    "- 3 pm "
   ]
  },
  {
   "cell_type": "code",
   "execution_count": 26,
   "metadata": {},
   "outputs": [
    {
     "data": {
      "text/plain": [
       "8.0"
      ]
     },
     "execution_count": 26,
     "metadata": {},
     "output_type": "execute_result"
    }
   ],
   "source": [
    "flights_df.groupby(['DepHour']).size().idxmax()"
   ]
  },
  {
   "cell_type": "markdown",
   "metadata": {},
   "source": [
    "**6. OK, now let's examine cancelled flight distribution by time. Which hour has the least percentage of cancelled flights?**<br>\n",
    "\n",
    "- 2 am\n",
    "- 9 pm  \n",
    "- 8 am  \n",
    "- 3 am "
   ]
  },
  {
   "cell_type": "code",
   "execution_count": 27,
   "metadata": {},
   "outputs": [
    {
     "data": {
      "text/plain": [
       "2.0"
      ]
     },
     "execution_count": 27,
     "metadata": {},
     "output_type": "execute_result"
    }
   ],
   "source": [
    "flights_df[flights_df['Cancelled'] == 1].groupby(['DepHour']).size().idxmin()"
   ]
  },
  {
   "cell_type": "markdown",
   "metadata": {},
   "source": [
    "**7. Is there any hour that didn't have any cancelled flights at all? Check all that apply.**\n",
    "\n",
    "- 3\n",
    "- 19\n",
    "- 22\n",
    "- 4 "
   ]
  },
  {
   "cell_type": "code",
   "execution_count": 28,
   "metadata": {},
   "outputs": [
    {
     "data": {
      "text/plain": [
       "{3}"
      ]
     },
     "execution_count": 28,
     "metadata": {},
     "output_type": "execute_result"
    }
   ],
   "source": [
    "hours = [int(h) for h in flights_df[flights_df['Cancelled'] == 1].groupby(['DepHour']).size().index.tolist()]\n",
    "all_hours = list(range(24))\n",
    "set(all_hours) - set(hours)"
   ]
  },
  {
   "cell_type": "markdown",
   "metadata": {},
   "source": [
    "**8. Find the busiest hour, or in other words, the hour when the number of departed flights reaches its maximum.**<br>\n",
    "\n",
    "*Hint:* Consider only *completed* flights.\n",
    "\n",
    "- 4\n",
    "- 7\n",
    "- 8\n",
    "- 17 "
   ]
  },
  {
   "cell_type": "code",
   "execution_count": 29,
   "metadata": {},
   "outputs": [
    {
     "data": {
      "text/plain": [
       "8.0"
      ]
     },
     "execution_count": 29,
     "metadata": {},
     "output_type": "execute_result"
    }
   ],
   "source": [
    "success_flights_df = flights_df[flights_df['Cancelled'] == 0]\n",
    "success_flights_df.groupby(['DepHour']).size().idxmax()"
   ]
  },
  {
   "cell_type": "markdown",
   "metadata": {},
   "source": [
    "**9. Since we know the departure hour, it might be interesting to examine the average delay for corresponding hour. Are there any cases, when the planes on average departed earlier than they should have done? And if yes, at what departure hours did it happen?**<br>\n",
    "\n",
    "*Hint:* Consider only *completed* flights.\n",
    "\n",
    "- no, there are no such cases\n",
    "- yes, at 5-6 am\n",
    "- yes, at 9-10 am\n",
    "- yes, at 2-4 pm"
   ]
  },
  {
   "cell_type": "code",
   "execution_count": 30,
   "metadata": {},
   "outputs": [
    {
     "data": {
      "text/plain": [
       "DepHour\n",
       "0.0      70.750000\n",
       "1.0     111.812500\n",
       "2.0     122.562500\n",
       "3.0      95.812500\n",
       "4.0       3.375000\n",
       "5.0      -4.253906\n",
       "6.0      -1.629883\n",
       "7.0       0.102539\n",
       "8.0       1.760742\n",
       "9.0       3.753906\n",
       "10.0      5.460938\n",
       "11.0      6.683594\n",
       "12.0      7.902344\n",
       "13.0      8.812500\n",
       "14.0     10.351562\n",
       "15.0     11.875000\n",
       "16.0     11.882812\n",
       "17.0     13.210938\n",
       "18.0     15.343750\n",
       "19.0     16.875000\n",
       "20.0     22.781250\n",
       "21.0     23.031250\n",
       "22.0     38.031250\n",
       "23.0     60.000000\n",
       "Name: DepDelay, dtype: float16"
      ]
     },
     "execution_count": 30,
     "metadata": {},
     "output_type": "execute_result"
    }
   ],
   "source": [
    "success_flights_df.groupby(['DepHour']).mean()['DepDelay']"
   ]
  },
  {
   "cell_type": "markdown",
   "metadata": {},
   "source": [
    "**10. Considering only the completed flights by the carrier, that you have found in Question 3, find the distribution of these flights by hour. At what time does the greatest number of its planes depart?**<br>\n",
    "\n",
    "- at noon\n",
    "- at 7 am \n",
    "- at 8 am\n",
    "- at 10 am"
   ]
  },
  {
   "cell_type": "code",
   "execution_count": 31,
   "metadata": {},
   "outputs": [
    {
     "data": {
      "text/plain": [
       "8.0"
      ]
     },
     "execution_count": 31,
     "metadata": {},
     "output_type": "execute_result"
    }
   ],
   "source": [
    "success_flights_df.groupby(['DepHour']).size().idxmax()"
   ]
  },
  {
   "cell_type": "markdown",
   "metadata": {},
   "source": [
    "**11. Find top-10 carriers in terms of the number of *completed* flights (_UniqueCarrier_ column)?**\n",
    "\n",
    "**Which of the listed below is _not_ in your top-10 list?**\n",
    "- DL\n",
    "- AA\n",
    "- OO\n",
    "- EV"
   ]
  },
  {
   "cell_type": "code",
   "execution_count": 32,
   "metadata": {},
   "outputs": [
    {
     "data": {
      "text/plain": [
       "UniqueCarrier\n",
       "EV    275549\n",
       "FL    259448\n",
       "9E    255108\n",
       "YV    245711\n",
       "B6    192886\n",
       "OH    191145\n",
       "AS    148963\n",
       "F9     95459\n",
       "HA     61256\n",
       "AQ      7758\n",
       "dtype: int64"
      ]
     },
     "execution_count": 32,
     "metadata": {},
     "output_type": "execute_result"
    }
   ],
   "source": [
    "success_flights_df.groupby(['UniqueCarrier']).size().sort_values(ascending=False).iloc[10:]"
   ]
  },
  {
   "cell_type": "markdown",
   "metadata": {},
   "source": [
    "**12. Plot distributions of flight cancellation reasons (_CancellationCode_).**\n",
    "\n",
    "**What is the most frequent reason for flight cancellation? (Use this [link](https://www.transtats.bts.gov/Fields.asp?Table_ID=236) to translate codes into reasons)**\n",
    "- Carrier\n",
    "- Weather conditions\n",
    "- National Air System\n",
    "- Security reasons"
   ]
  },
  {
   "cell_type": "code",
   "execution_count": 33,
   "metadata": {},
   "outputs": [
    {
     "data": {
      "text/plain": [
       "CancellationCode\n",
       "A    54330\n",
       "B    54904\n",
       "C    28188\n",
       "D       12\n",
       "Name: CancellationCode, dtype: int64"
      ]
     },
     "execution_count": 33,
     "metadata": {},
     "output_type": "execute_result"
    }
   ],
   "source": [
    "ser = flights_df['CancellationCode'].dropna()\n",
    "ser.groupby(ser).size()"
   ]
  },
  {
   "cell_type": "markdown",
   "metadata": {},
   "source": [
    "**13. Which route is the most frequent, in terms of the number of flights?**\n",
    "\n",
    "(Take a look at _'Origin'_ and _'Dest'_ features. Consider _A->B_ and _B->A_ directions as _different_ routes) \n",
    "\n",
    " - New-York – Washington (JFK-IAD)\n",
    " - San-Francisco – Los-Angeles (SFO-LAX)\n",
    " - San-Jose – Dallas (SJC-DFW)\n",
    " - New-York – San-Francisco (JFK-SFO)"
   ]
  },
  {
   "cell_type": "code",
   "execution_count": 34,
   "metadata": {},
   "outputs": [
    {
     "name": "stdout",
     "output_type": "stream",
     "text": [
      "CPU times: user 2min 10s, sys: 2.15 s, total: 2min 12s\n",
      "Wall time: 2min 12s\n"
     ]
    }
   ],
   "source": [
    "%%time\n",
    "# Add feature route\n",
    "flights_df['Route'] = flights_df.apply(lambda x: \"%s-%s\" % (x['Origin'], x['Dest']), axis=1)"
   ]
  },
  {
   "cell_type": "code",
   "execution_count": 35,
   "metadata": {},
   "outputs": [
    {
     "data": {
      "text/plain": [
       "'SFO-LAX'"
      ]
     },
     "execution_count": 35,
     "metadata": {},
     "output_type": "execute_result"
    }
   ],
   "source": [
    "flights_df.groupby(['Route']).size().idxmax()"
   ]
  },
  {
   "cell_type": "markdown",
   "metadata": {},
   "source": [
    "**14. Find top-5 delayed routes (count how many times they were delayed on departure). From all flights on these 5 routes, count all flights with weather conditions contributing to a delay.**\n",
    "\n",
    "_Hint_: consider only positive delays\n",
    "\n",
    "- 449 \n",
    "- 539 \n",
    "- 549 \n",
    "- 668"
   ]
  },
  {
   "cell_type": "code",
   "execution_count": 36,
   "metadata": {},
   "outputs": [
    {
     "ename": "KeyError",
     "evalue": "'Route'",
     "output_type": "error",
     "traceback": [
      "\u001b[0;31m---------------------------------------------------------------------------\u001b[0m",
      "\u001b[0;31mKeyError\u001b[0m                                  Traceback (most recent call last)",
      "\u001b[0;32m<ipython-input-36-bd48fc40b80f>\u001b[0m in \u001b[0;36m<module>\u001b[0;34m\u001b[0m\n\u001b[0;32m----> 1\u001b[0;31m top_delayed_routes = success_flights_df[success_flights_df['DepDelay'] > 0].groupby(['Route']).size().sort_values(\n\u001b[0m\u001b[1;32m      2\u001b[0m     ascending=False).iloc[:5].index.to_list()\n",
      "\u001b[0;32m~/.local/share/virtualenvs/mlcourse_ai-IgPQWw8K/lib/python3.7/site-packages/pandas/core/generic.py\u001b[0m in \u001b[0;36mgroupby\u001b[0;34m(self, by, axis, level, as_index, sort, group_keys, squeeze, observed, **kwargs)\u001b[0m\n\u001b[1;32m   7630\u001b[0m         return groupby(self, by=by, axis=axis, level=level, as_index=as_index,\n\u001b[1;32m   7631\u001b[0m                        \u001b[0msort\u001b[0m\u001b[0;34m=\u001b[0m\u001b[0msort\u001b[0m\u001b[0;34m,\u001b[0m \u001b[0mgroup_keys\u001b[0m\u001b[0;34m=\u001b[0m\u001b[0mgroup_keys\u001b[0m\u001b[0;34m,\u001b[0m \u001b[0msqueeze\u001b[0m\u001b[0;34m=\u001b[0m\u001b[0msqueeze\u001b[0m\u001b[0;34m,\u001b[0m\u001b[0;34m\u001b[0m\u001b[0;34m\u001b[0m\u001b[0m\n\u001b[0;32m-> 7632\u001b[0;31m                        observed=observed, **kwargs)\n\u001b[0m\u001b[1;32m   7633\u001b[0m \u001b[0;34m\u001b[0m\u001b[0m\n\u001b[1;32m   7634\u001b[0m     def asfreq(self, freq, method=None, how=None, normalize=False,\n",
      "\u001b[0;32m~/.local/share/virtualenvs/mlcourse_ai-IgPQWw8K/lib/python3.7/site-packages/pandas/core/groupby/groupby.py\u001b[0m in \u001b[0;36mgroupby\u001b[0;34m(obj, by, **kwds)\u001b[0m\n\u001b[1;32m   2108\u001b[0m         \u001b[0;32mraise\u001b[0m \u001b[0mTypeError\u001b[0m\u001b[0;34m(\u001b[0m\u001b[0;34m'invalid type: {}'\u001b[0m\u001b[0;34m.\u001b[0m\u001b[0mformat\u001b[0m\u001b[0;34m(\u001b[0m\u001b[0mobj\u001b[0m\u001b[0;34m)\u001b[0m\u001b[0;34m)\u001b[0m\u001b[0;34m\u001b[0m\u001b[0;34m\u001b[0m\u001b[0m\n\u001b[1;32m   2109\u001b[0m \u001b[0;34m\u001b[0m\u001b[0m\n\u001b[0;32m-> 2110\u001b[0;31m     \u001b[0;32mreturn\u001b[0m \u001b[0mklass\u001b[0m\u001b[0;34m(\u001b[0m\u001b[0mobj\u001b[0m\u001b[0;34m,\u001b[0m \u001b[0mby\u001b[0m\u001b[0;34m,\u001b[0m \u001b[0;34m**\u001b[0m\u001b[0mkwds\u001b[0m\u001b[0;34m)\u001b[0m\u001b[0;34m\u001b[0m\u001b[0;34m\u001b[0m\u001b[0m\n\u001b[0m",
      "\u001b[0;32m~/.local/share/virtualenvs/mlcourse_ai-IgPQWw8K/lib/python3.7/site-packages/pandas/core/groupby/groupby.py\u001b[0m in \u001b[0;36m__init__\u001b[0;34m(self, obj, keys, axis, level, grouper, exclusions, selection, as_index, sort, group_keys, squeeze, observed, **kwargs)\u001b[0m\n\u001b[1;32m    358\u001b[0m                                                     \u001b[0msort\u001b[0m\u001b[0;34m=\u001b[0m\u001b[0msort\u001b[0m\u001b[0;34m,\u001b[0m\u001b[0;34m\u001b[0m\u001b[0;34m\u001b[0m\u001b[0m\n\u001b[1;32m    359\u001b[0m                                                     \u001b[0mobserved\u001b[0m\u001b[0;34m=\u001b[0m\u001b[0mobserved\u001b[0m\u001b[0;34m,\u001b[0m\u001b[0;34m\u001b[0m\u001b[0;34m\u001b[0m\u001b[0m\n\u001b[0;32m--> 360\u001b[0;31m                                                     mutated=self.mutated)\n\u001b[0m\u001b[1;32m    361\u001b[0m \u001b[0;34m\u001b[0m\u001b[0m\n\u001b[1;32m    362\u001b[0m         \u001b[0mself\u001b[0m\u001b[0;34m.\u001b[0m\u001b[0mobj\u001b[0m \u001b[0;34m=\u001b[0m \u001b[0mobj\u001b[0m\u001b[0;34m\u001b[0m\u001b[0;34m\u001b[0m\u001b[0m\n",
      "\u001b[0;32m~/.local/share/virtualenvs/mlcourse_ai-IgPQWw8K/lib/python3.7/site-packages/pandas/core/groupby/grouper.py\u001b[0m in \u001b[0;36m_get_grouper\u001b[0;34m(obj, key, axis, level, sort, observed, mutated, validate)\u001b[0m\n\u001b[1;32m    576\u001b[0m                 \u001b[0min_axis\u001b[0m\u001b[0;34m,\u001b[0m \u001b[0mname\u001b[0m\u001b[0;34m,\u001b[0m \u001b[0mlevel\u001b[0m\u001b[0;34m,\u001b[0m \u001b[0mgpr\u001b[0m \u001b[0;34m=\u001b[0m \u001b[0;32mFalse\u001b[0m\u001b[0;34m,\u001b[0m \u001b[0;32mNone\u001b[0m\u001b[0;34m,\u001b[0m \u001b[0mgpr\u001b[0m\u001b[0;34m,\u001b[0m \u001b[0;32mNone\u001b[0m\u001b[0;34m\u001b[0m\u001b[0;34m\u001b[0m\u001b[0m\n\u001b[1;32m    577\u001b[0m             \u001b[0;32melse\u001b[0m\u001b[0;34m:\u001b[0m\u001b[0;34m\u001b[0m\u001b[0;34m\u001b[0m\u001b[0m\n\u001b[0;32m--> 578\u001b[0;31m                 \u001b[0;32mraise\u001b[0m \u001b[0mKeyError\u001b[0m\u001b[0;34m(\u001b[0m\u001b[0mgpr\u001b[0m\u001b[0;34m)\u001b[0m\u001b[0;34m\u001b[0m\u001b[0;34m\u001b[0m\u001b[0m\n\u001b[0m\u001b[1;32m    579\u001b[0m         \u001b[0;32melif\u001b[0m \u001b[0misinstance\u001b[0m\u001b[0;34m(\u001b[0m\u001b[0mgpr\u001b[0m\u001b[0;34m,\u001b[0m \u001b[0mGrouper\u001b[0m\u001b[0;34m)\u001b[0m \u001b[0;32mand\u001b[0m \u001b[0mgpr\u001b[0m\u001b[0;34m.\u001b[0m\u001b[0mkey\u001b[0m \u001b[0;32mis\u001b[0m \u001b[0;32mnot\u001b[0m \u001b[0;32mNone\u001b[0m\u001b[0;34m:\u001b[0m\u001b[0;34m\u001b[0m\u001b[0;34m\u001b[0m\u001b[0m\n\u001b[1;32m    580\u001b[0m             \u001b[0;31m# Add key to exclusions\u001b[0m\u001b[0;34m\u001b[0m\u001b[0;34m\u001b[0m\u001b[0;34m\u001b[0m\u001b[0m\n",
      "\u001b[0;31mKeyError\u001b[0m: 'Route'"
     ]
    }
   ],
   "source": [
    "top_delayed_routes = success_flights_df[success_flights_df['DepDelay'] > 0].groupby(['Route']).size().sort_values(\n",
    "    ascending=False).iloc[:5].index.to_list()"
   ]
  },
  {
   "cell_type": "code",
   "execution_count": null,
   "metadata": {},
   "outputs": [],
   "source": [
    "top_delayed_routes"
   ]
  },
  {
   "cell_type": "code",
   "execution_count": null,
   "metadata": {},
   "outputs": [],
   "source": [
    "success_flights_df[success_flights_df['Route'].isin(top_delayed_routes)].size"
   ]
  },
  {
   "cell_type": "code",
   "execution_count": null,
   "metadata": {},
   "outputs": [],
   "source": [
    "success_flights_df[success_flights_df['Route'].isin(top_delayed_routes) & \n",
    "                   success_flights_df['DepDelay'] > 0].size"
   ]
  },
  {
   "cell_type": "code",
   "execution_count": null,
   "metadata": {},
   "outputs": [],
   "source": [
    "success_flights_df[(success_flights_df['Route'].isin(top_delayed_routes)) & \n",
    "                   (success_flights_df['DepDelay'] > 0) & \n",
    "                   (success_flights_df['WeatherDelay'] > 0)].size"
   ]
  },
  {
   "cell_type": "code",
   "execution_count": null,
   "metadata": {},
   "outputs": [],
   "source": [
    "success_flights_df[(success_flights_df['Route'].isin(top_delayed_routes)) & \n",
    "                   (success_flights_df['DepDelay'] > 0) & \n",
    "                   (success_flights_df['WeatherDelay'] > 0) & \n",
    "                   (success_flights_df['CarrierDelay'] == 0) & \n",
    "                   (success_flights_df['NASDelay'] == 0) & \n",
    "                   (success_flights_df['SecurityDelay'] == 0) & \n",
    "                   (success_flights_df['LateAircraftDelay'] == 0)].size"
   ]
  },
  {
   "cell_type": "markdown",
   "metadata": {},
   "source": [
    "**15. Examine the hourly distribution of departure times. Choose all correct statements:**\n",
    "\n",
    " - Flights are normally distributed within time interval [0-23] (Search for: Normal distribution, bell curve).\n",
    " - Flights are uniformly distributed within time interval [0-23].\n",
    " - In the period from 0 am to 4 am there are considerably less flights than from 7 pm to 8 pm."
   ]
  },
  {
   "cell_type": "code",
   "execution_count": null,
   "metadata": {},
   "outputs": [],
   "source": [
    "flights_df.hist('DepHour', bins=24);"
   ]
  },
  {
   "cell_type": "markdown",
   "metadata": {},
   "source": [
    "**16. Show how the number of flights changes through time (on the daily/weekly/monthly basis) and interpret the findings.**\n",
    "\n",
    "**Choose all correct statements:**\n",
    "- The number of flights during weekends is less than during weekdays (working days). \n",
    "- The lowest number of flights is on Sunday.\n",
    "- There are less flights during winter than during summer.\n",
    "\n",
    "_Hint_: Look for official meteorological winter months for the Nothern Hemisphsere."
   ]
  },
  {
   "cell_type": "code",
   "execution_count": null,
   "metadata": {},
   "outputs": [],
   "source": [
    "sns.countplot(data=flights_df, x='DayofMonth');"
   ]
  },
  {
   "cell_type": "code",
   "execution_count": null,
   "metadata": {},
   "outputs": [],
   "source": [
    "sns.countplot(data=flights_df, x='DayOfWeek');"
   ]
  },
  {
   "cell_type": "code",
   "execution_count": null,
   "metadata": {},
   "outputs": [],
   "source": [
    "%%time\n",
    "def get_season(month):\n",
    "    if month in (12, 1, 2):\n",
    "        return 'Winter'\n",
    "    if month in (3, 4, 5):\n",
    "        return 'Spring'\n",
    "    if month in (6, 7, 8):\n",
    "        return 'Summer'\n",
    "    return 'Fall'\n",
    "flights_df['Season'] = flights_df.apply(lambda x: get_season(x['Month']), axis = 1)"
   ]
  },
  {
   "cell_type": "code",
   "execution_count": null,
   "metadata": {},
   "outputs": [],
   "source": [
    "sns.countplot(data=flights_df, x='Season');"
   ]
  },
  {
   "cell_type": "markdown",
   "metadata": {},
   "source": [
    "**17. Examine the distribution of cancellation reasons with time. Make a bar plot of cancellation reasons aggregated by months.**\n",
    "\n",
    "**Choose all correct statements:**\n",
    "- October has the lowest number of cancellations due to weather. \n",
    "- The highest number of cancellations in September is due to Security reasons.\n",
    "- April's top cancellation reason is carriers.\n",
    "- Flights cancellations due to National Air System are more frequent than those due to carriers."
   ]
  },
  {
   "cell_type": "code",
   "execution_count": null,
   "metadata": {},
   "outputs": [],
   "source": [
    "# A - Carrier\n",
    "# B - Weather conditions\n",
    "# C - National Air System\n",
    "# D - Security reasons\n",
    "\n",
    "cancelled_flights_df = flights_df.dropna(subset=['CancellationCode'], axis=0)\n",
    "fig, ax = plt.subplots(figsize=(16, 8))\n",
    "sns.countplot(data=cancelled_flights_df, x='Month', hue='CancellationCode');"
   ]
  },
  {
   "cell_type": "markdown",
   "metadata": {},
   "source": [
    "**18. Which month has the greatest number of cancellations due to Carrier?** \n",
    "- May\n",
    "- January\n",
    "- September\n",
    "- April"
   ]
  },
  {
   "cell_type": "code",
   "execution_count": null,
   "metadata": {},
   "outputs": [],
   "source": [
    "cancelled_flights_df[cancelled_flights_df['CancellationCode'] == 'A'].groupby(['Month']).size().idxmax()"
   ]
  },
  {
   "cell_type": "markdown",
   "metadata": {},
   "source": [
    "**19. Identify the carrier with the greatest number of cancellations due to carrier in the corresponding month from the previous question.**\n",
    "\n",
    "- 9E\n",
    "- EV\n",
    "- HA\n",
    "- AA"
   ]
  },
  {
   "cell_type": "code",
   "execution_count": null,
   "metadata": {},
   "outputs": [],
   "source": [
    "cancelled_flights_df[\n",
    "    (cancelled_flights_df['CancellationCode'] == 'A') & \n",
    "    (cancelled_flights_df['Month'] == 4)\n",
    "].groupby(['UniqueCarrier']).size().idxmax()"
   ]
  },
  {
   "cell_type": "markdown",
   "metadata": {},
   "source": [
    "**20. Examine median arrival and departure delays (in time) by carrier. Which carrier has the lowest median delay time for both arrivals and departures? Leave only non-negative values of delay times ('ArrDelay', 'DepDelay').\n",
    "([Boxplots](https://seaborn.pydata.org/generated/seaborn.boxplot.html) can be helpful in this exercise, as well as it might be a good idea to remove outliers in order to build nice graphs. You can exclude delay time values higher than a corresponding .95 percentile).**\n",
    "\n",
    "- EV\n",
    "- OO\n",
    "- AA\n",
    "- AQ"
   ]
  },
  {
   "cell_type": "code",
   "execution_count": null,
   "metadata": {},
   "outputs": [],
   "source": [
    "delayed_flights_df = flights_df[\n",
    "    (flights_df['ArrDelay'] >= 0) & \n",
    "    (flights_df['DepDelay'] >= 0)\n",
    "]"
   ]
  },
  {
   "cell_type": "code",
   "execution_count": null,
   "metadata": {},
   "outputs": [],
   "source": [
    "delayes = delayed_flights_df.groupby(['UniqueCarrier'])['ArrDelay'].quantile(.95) + \\\n",
    "delayed_flights_df.groupby(['UniqueCarrier'])['DepDelay'].quantile(.95)"
   ]
  },
  {
   "cell_type": "code",
   "execution_count": null,
   "metadata": {},
   "outputs": [],
   "source": [
    "fig, ax = plt.subplots(figsize=(16, 8))\n",
    "sns.barplot(delayes.index, delayes.values);"
   ]
  },
  {
   "cell_type": "markdown",
   "metadata": {},
   "source": [
    "That's it! Now go and do 30 push-ups! :)"
   ]
  }
 ],
 "metadata": {
  "anaconda-cloud": {},
  "kernelspec": {
   "display_name": "Python 3",
   "language": "python",
   "name": "python3"
  },
  "language_info": {
   "codemirror_mode": {
    "name": "ipython",
    "version": 3
   },
   "file_extension": ".py",
   "mimetype": "text/x-python",
   "name": "python",
   "nbconvert_exporter": "python",
   "pygments_lexer": "ipython3",
   "version": "3.7.2"
  }
 },
 "nbformat": 4,
 "nbformat_minor": 1
}
